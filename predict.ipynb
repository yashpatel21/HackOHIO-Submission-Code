{
 "cells": [
  {
   "cell_type": "code",
   "execution_count": 1,
   "metadata": {},
   "outputs": [],
   "source": [
    "# import necessary libraries\n",
    "import numpy as np\n",
    "import pandas as pd\n",
    "import matplotlib.pyplot as plt\n",
    "from sklearn import preprocessing\n",
    "from tensorflow.keras.models import load_model\n",
    "import os\n",
    "# import talib\n",
    "import math"
   ]
  },
  {
   "cell_type": "code",
   "execution_count": 2,
   "metadata": {},
   "outputs": [],
   "source": [
    "np.random.seed(7)"
   ]
  },
  {
   "cell_type": "code",
   "execution_count": 3,
   "metadata": {},
   "outputs": [],
   "source": [
    "#load gdp data\n",
    "df = pd.read_csv('GDP.csv', index_col=0)"
   ]
  },
  {
   "cell_type": "code",
   "execution_count": 4,
   "metadata": {},
   "outputs": [
    {
     "data": {
      "text/html": [
       "<div>\n",
       "<style scoped>\n",
       "    .dataframe tbody tr th:only-of-type {\n",
       "        vertical-align: middle;\n",
       "    }\n",
       "\n",
       "    .dataframe tbody tr th {\n",
       "        vertical-align: top;\n",
       "    }\n",
       "\n",
       "    .dataframe thead th {\n",
       "        text-align: right;\n",
       "    }\n",
       "</style>\n",
       "<table border=\"1\" class=\"dataframe\">\n",
       "  <thead>\n",
       "    <tr style=\"text-align: right;\">\n",
       "      <th></th>\n",
       "      <th>GDP</th>\n",
       "    </tr>\n",
       "    <tr>\n",
       "      <th>DATE</th>\n",
       "      <th></th>\n",
       "    </tr>\n",
       "  </thead>\n",
       "  <tbody>\n",
       "    <tr>\n",
       "      <th>2018-07-01</th>\n",
       "      <td>20749.752</td>\n",
       "    </tr>\n",
       "    <tr>\n",
       "      <th>2018-10-01</th>\n",
       "      <td>20897.804</td>\n",
       "    </tr>\n",
       "    <tr>\n",
       "      <th>2019-01-01</th>\n",
       "      <td>21098.827</td>\n",
       "    </tr>\n",
       "    <tr>\n",
       "      <th>2019-04-01</th>\n",
       "      <td>21340.267</td>\n",
       "    </tr>\n",
       "    <tr>\n",
       "      <th>2019-07-01</th>\n",
       "      <td>21542.104</td>\n",
       "    </tr>\n",
       "  </tbody>\n",
       "</table>\n",
       "</div>"
      ],
      "text/plain": [
       "                  GDP\n",
       "DATE                 \n",
       "2018-07-01  20749.752\n",
       "2018-10-01  20897.804\n",
       "2019-01-01  21098.827\n",
       "2019-04-01  21340.267\n",
       "2019-07-01  21542.104"
      ]
     },
     "execution_count": 4,
     "metadata": {},
     "output_type": "execute_result"
    }
   ],
   "source": [
    "df.tail()"
   ]
  },
  {
   "cell_type": "code",
   "execution_count": 5,
   "metadata": {},
   "outputs": [],
   "source": [
    "#set look-back to 12 and forecast out to 2 \n",
    "LOOK_BACK = 12\n",
    "FORECAST_OUT = 2"
   ]
  },
  {
   "cell_type": "code",
   "execution_count": 6,
   "metadata": {},
   "outputs": [],
   "source": [
    "# get rid of any nan values just in case\n",
    "df.fillna(method='ffill', inplace=True)"
   ]
  },
  {
   "cell_type": "code",
   "execution_count": 7,
   "metadata": {},
   "outputs": [
    {
     "name": "stdout",
     "output_type": "stream",
     "text": [
      "(291, 1)\n"
     ]
    }
   ],
   "source": [
    "# normalize (scale) values between 0 and 1\n",
    "\n",
    "gdp_scaler = preprocessing.MinMaxScaler()\n",
    "\n",
    "scaled_gdp = gdp_scaler.fit_transform(df[['GDP']].values)\n",
    "\n",
    "scaled_data = pd.DataFrame(\n",
    "    np.concatenate([scaled_gdp], axis=1), \n",
    "    columns=['GDP']\n",
    "    )\n",
    "\n",
    "scaled_data.dropna(inplace=True)\n",
    "\n",
    "print(scaled_data.shape)"
   ]
  },
  {
   "cell_type": "code",
   "execution_count": 8,
   "metadata": {},
   "outputs": [],
   "source": [
    "# function for processing the data to make it compatible with LSTM model\n",
    "\n",
    "def processData(data, lb, fc_out):\n",
    "\n",
    "    if isinstance(data, pd.DataFrame):\n",
    "        data = data.values\n",
    "\n",
    "    X, y = [], []\n",
    "\n",
    "    for i in range(len(data)-lb-1):\n",
    "\n",
    "        if data.shape[1] > 1:\n",
    "            X.append(data[i:(i+lb), :-1])\n",
    "\n",
    "        elif data.shape[1] == 1:\n",
    "            X.append(data[i:(i+lb), 0])\n",
    "\n",
    "        y.append(data[(i+lb):(i+lb+fc_out), 0])\n",
    "\n",
    "    X, y = np.array(X), np.array(y)\n",
    "\n",
    "    if data.shape[1] == 1:\n",
    "        X = X.reshape((X.shape[0], X.shape[1], 1))\n",
    "\n",
    "    return X, y"
   ]
  },
  {
   "cell_type": "code",
   "execution_count": 9,
   "metadata": {},
   "outputs": [
    {
     "name": "stdout",
     "output_type": "stream",
     "text": [
      "X: (278, 12, 1)\n",
      "y: (278, 2)\n"
     ]
    }
   ],
   "source": [
    "#process the normalized (scaled) data\n",
    "\n",
    "X, y = processData(scaled_data, LOOK_BACK, FORECAST_OUT)\n",
    "\n",
    "print(f\"X: {X.shape}\\ny: {y.shape}\")"
   ]
  },
  {
   "cell_type": "code",
   "execution_count": 10,
   "metadata": {},
   "outputs": [
    {
     "name": "stdout",
     "output_type": "stream",
     "text": [
      "WARNING:tensorflow:From C:\\Miniconda3\\lib\\site-packages\\tensorflow\\python\\ops\\init_ops.py:97: calling GlorotUniform.__init__ (from tensorflow.python.ops.init_ops) with dtype is deprecated and will be removed in a future version.\n",
      "Instructions for updating:\n",
      "Call initializer instance with the dtype argument instead of passing it to the constructor\n",
      "WARNING:tensorflow:From C:\\Miniconda3\\lib\\site-packages\\tensorflow\\python\\ops\\init_ops.py:1251: calling VarianceScaling.__init__ (from tensorflow.python.ops.init_ops) with dtype is deprecated and will be removed in a future version.\n",
      "Instructions for updating:\n",
      "Call initializer instance with the dtype argument instead of passing it to the constructor\n",
      "WARNING:tensorflow:From C:\\Miniconda3\\lib\\site-packages\\tensorflow\\python\\ops\\init_ops.py:97: calling Orthogonal.__init__ (from tensorflow.python.ops.init_ops) with dtype is deprecated and will be removed in a future version.\n",
      "Instructions for updating:\n",
      "Call initializer instance with the dtype argument instead of passing it to the constructor\n",
      "WARNING:tensorflow:From C:\\Miniconda3\\lib\\site-packages\\tensorflow\\python\\ops\\init_ops.py:97: calling Zeros.__init__ (from tensorflow.python.ops.init_ops) with dtype is deprecated and will be removed in a future version.\n",
      "Instructions for updating:\n",
      "Call initializer instance with the dtype argument instead of passing it to the constructor\n",
      "WARNING:tensorflow:From C:\\Miniconda3\\lib\\site-packages\\tensorflow\\python\\ops\\math_grad.py:1250: add_dispatch_support.<locals>.wrapper (from tensorflow.python.ops.array_ops) is deprecated and will be removed in a future version.\n",
      "Instructions for updating:\n",
      "Use tf.where in 2.0, which has the same broadcast rule as np.where\n"
     ]
    }
   ],
   "source": [
    "# load final model that we previously trained\n",
    "model = load_model('./models/final_model.h5')"
   ]
  },
  {
   "cell_type": "code",
   "execution_count": 12,
   "metadata": {},
   "outputs": [
    {
     "name": "stdout",
     "output_type": "stream",
     "text": [
      "278/278 [==============================] - 0s 1ms/sample - loss: 6.0726e-04 - mean_squared_error: 6.0726e-04 - acc: 0.7374\n"
     ]
    },
    {
     "data": {
      "text/plain": [
       "[0.0006072563733239726, 0.00060725637, 0.73741007]"
      ]
     },
     "execution_count": 12,
     "metadata": {},
     "output_type": "execute_result"
    }
   ],
   "source": [
    "# evaluate model\n",
    "model.evaluate(X, y)"
   ]
  },
  {
   "cell_type": "code",
   "execution_count": 13,
   "metadata": {},
   "outputs": [],
   "source": [
    "# define function for predicting based on input value\n",
    "def predict(input_value):\n",
    "\n",
    "    Xt = model.predict(input_value.reshape(1, input_value.shape[0], input_value.shape[1]))\n",
    " \n",
    "    return gdp_scaler.inverse_transform(Xt)[0]"
   ]
  },
  {
   "cell_type": "code",
   "execution_count": 14,
   "metadata": {},
   "outputs": [],
   "source": [
    "scaled_data = scaled_data[\"GDP\"]"
   ]
  },
  {
   "cell_type": "code",
   "execution_count": 15,
   "metadata": {},
   "outputs": [],
   "source": [
    "df = df[\"GDP\"]"
   ]
  },
  {
   "cell_type": "code",
   "execution_count": 16,
   "metadata": {},
   "outputs": [
    {
     "data": {
      "text/plain": [
       "DATE\n",
       "1947-01-01      243.164\n",
       "1947-04-01      245.968\n",
       "1947-07-01      249.585\n",
       "1947-10-01      259.745\n",
       "1948-01-01      265.742\n",
       "                ...    \n",
       "2018-07-01    20749.752\n",
       "2018-10-01    20897.804\n",
       "2019-01-01    21098.827\n",
       "2019-04-01    21340.267\n",
       "2019-07-01    21542.104\n",
       "Name: GDP, Length: 291, dtype: float64"
      ]
     },
     "execution_count": 16,
     "metadata": {},
     "output_type": "execute_result"
    }
   ],
   "source": [
    "df"
   ]
  },
  {
   "cell_type": "code",
   "execution_count": 17,
   "metadata": {},
   "outputs": [
    {
     "data": {
      "text/plain": [
       "0      0.000000\n",
       "1      0.000132\n",
       "2      0.000301\n",
       "3      0.000778\n",
       "4      0.001060\n",
       "         ...   \n",
       "286    0.962799\n",
       "287    0.969750\n",
       "288    0.979188\n",
       "289    0.990524\n",
       "290    1.000000\n",
       "Name: GDP, Length: 291, dtype: float64"
      ]
     },
     "execution_count": 17,
     "metadata": {},
     "output_type": "execute_result"
    }
   ],
   "source": [
    "# data before predicting 7 quarters into the future\n",
    "scaled_data"
   ]
  },
  {
   "cell_type": "code",
   "execution_count": 18,
   "metadata": {},
   "outputs": [],
   "source": [
    "#predict 7 quarters into the future\n",
    "\n",
    "predicted_values = gdp_scaler.transform(predict(scaled_data.values[-LOOK_BACK:].reshape(-1,1)).reshape(-1,1)).reshape(1,-1)[0]\n",
    "scaled_data[scaled_data.shape[0]] = predicted_values[0]\n",
    "scaled_data[scaled_data.shape[0]] = predicted_values[1]\n",
    "\n",
    "predicted_values = gdp_scaler.transform(predict(scaled_data.values[-LOOK_BACK:].reshape(-1,1)).reshape(-1,1)).reshape(1,-1)[0]\n",
    "scaled_data[scaled_data.shape[0]] = predicted_values[0]\n",
    "scaled_data[scaled_data.shape[0]] = predicted_values[1]\n",
    "\n",
    "predicted_values = gdp_scaler.transform(predict(scaled_data.values[-LOOK_BACK:].reshape(-1,1)).reshape(-1,1)).reshape(1,-1)[0]\n",
    "scaled_data[scaled_data.shape[0]] = predicted_values[0]\n",
    "\n",
    "predicted_values = gdp_scaler.transform(predict(scaled_data.values[-LOOK_BACK:].reshape(-1,1)).reshape(-1,1)).reshape(1,-1)[0]\n",
    "scaled_data[scaled_data.shape[0]] = predicted_values[0]\n",
    "\n",
    "predicted_values = gdp_scaler.transform(predict(scaled_data.values[-LOOK_BACK:].reshape(-1,1)).reshape(-1,1)).reshape(1,-1)[0]\n",
    "scaled_data[scaled_data.shape[0]] = predicted_values[0]\n"
   ]
  },
  {
   "cell_type": "code",
   "execution_count": 19,
   "metadata": {},
   "outputs": [
    {
     "data": {
      "text/plain": [
       "0      0.000000\n",
       "1      0.000132\n",
       "2      0.000301\n",
       "3      0.000778\n",
       "4      0.001060\n",
       "         ...   \n",
       "293    0.964765\n",
       "294    1.003902\n",
       "295    0.979023\n",
       "296    0.983737\n",
       "297    0.987955\n",
       "Name: GDP, Length: 298, dtype: float64"
      ]
     },
     "execution_count": 19,
     "metadata": {},
     "output_type": "execute_result"
    }
   ],
   "source": [
    "# data before predicting 7 quarters into the future\n",
    "scaled_data"
   ]
  },
  {
   "cell_type": "code",
   "execution_count": 20,
   "metadata": {},
   "outputs": [],
   "source": [
    "# convert normalized data back into real world data\n",
    "new_data = gdp_scaler.inverse_transform(scaled_data.values.reshape(-1,1))"
   ]
  },
  {
   "cell_type": "code",
   "execution_count": 21,
   "metadata": {},
   "outputs": [
    {
     "data": {
      "text/plain": [
       "array([[  243.164     ],\n",
       "       [  245.968     ],\n",
       "       [  249.585     ],\n",
       "       [  259.745     ],\n",
       "       [  265.742     ],\n",
       "       [  272.567     ],\n",
       "       [  279.196     ],\n",
       "       [  280.366     ],\n",
       "       [  275.034     ],\n",
       "       [  271.351     ],\n",
       "       [  272.889     ],\n",
       "       [  270.627     ],\n",
       "       [  280.828     ],\n",
       "       [  290.383     ],\n",
       "       [  308.153     ],\n",
       "       [  319.945     ],\n",
       "       [  336.        ],\n",
       "       [  344.09      ],\n",
       "       [  351.385     ],\n",
       "       [  356.178     ],\n",
       "       [  359.82      ],\n",
       "       [  361.03      ],\n",
       "       [  367.701     ],\n",
       "       [  380.812     ],\n",
       "       [  387.98      ],\n",
       "       [  391.749     ],\n",
       "       [  391.171     ],\n",
       "       [  385.97      ],\n",
       "       [  385.345     ],\n",
       "       [  386.121     ],\n",
       "       [  390.996     ],\n",
       "       [  399.734     ],\n",
       "       [  413.073     ],\n",
       "       [  421.532     ],\n",
       "       [  430.221     ],\n",
       "       [  437.092     ],\n",
       "       [  439.746     ],\n",
       "       [  446.01      ],\n",
       "       [  451.191     ],\n",
       "       [  460.463     ],\n",
       "       [  469.779     ],\n",
       "       [  472.025     ],\n",
       "       [  479.49      ],\n",
       "       [  474.864     ],\n",
       "       [  467.54      ],\n",
       "       [  471.978     ],\n",
       "       [  485.841     ],\n",
       "       [  499.555     ],\n",
       "       [  510.33      ],\n",
       "       [  522.653     ],\n",
       "       [  525.034     ],\n",
       "       [  528.6       ],\n",
       "       [  542.648     ],\n",
       "       [  541.08      ],\n",
       "       [  545.604     ],\n",
       "       [  540.197     ],\n",
       "       [  545.018     ],\n",
       "       [  555.545     ],\n",
       "       [  567.664     ],\n",
       "       [  580.612     ],\n",
       "       [  594.013     ],\n",
       "       [  600.366     ],\n",
       "       [  609.027     ],\n",
       "       [  612.28      ],\n",
       "       [  621.672     ],\n",
       "       [  629.752     ],\n",
       "       [  644.444     ],\n",
       "       [  653.938     ],\n",
       "       [  669.822     ],\n",
       "       [  678.674     ],\n",
       "       [  692.031     ],\n",
       "       [  697.319     ],\n",
       "       [  717.79      ],\n",
       "       [  730.191     ],\n",
       "       [  749.323     ],\n",
       "       [  771.857     ],\n",
       "       [  795.734     ],\n",
       "       [  804.981     ],\n",
       "       [  819.638     ],\n",
       "       [  833.302     ],\n",
       "       [  844.17      ],\n",
       "       [  848.983     ],\n",
       "       [  865.233     ],\n",
       "       [  881.439     ],\n",
       "       [  909.387     ],\n",
       "       [  934.344     ],\n",
       "       [  950.825     ],\n",
       "       [  968.03      ],\n",
       "       [  993.337     ],\n",
       "       [ 1009.02      ],\n",
       "       [ 1029.956     ],\n",
       "       [ 1038.147     ],\n",
       "       [ 1051.2       ],\n",
       "       [ 1067.375     ],\n",
       "       [ 1086.059     ],\n",
       "       [ 1088.608     ],\n",
       "       [ 1135.156     ],\n",
       "       [ 1156.271     ],\n",
       "       [ 1177.675     ],\n",
       "       [ 1190.297     ],\n",
       "       [ 1230.609     ],\n",
       "       [ 1266.369     ],\n",
       "       [ 1290.566     ],\n",
       "       [ 1328.904     ],\n",
       "       [ 1377.49      ],\n",
       "       [ 1413.887     ],\n",
       "       [ 1433.838     ],\n",
       "       [ 1476.289     ],\n",
       "       [ 1491.209     ],\n",
       "       [ 1530.056     ],\n",
       "       [ 1560.026     ],\n",
       "       [ 1599.679     ],\n",
       "       [ 1616.116     ],\n",
       "       [ 1651.853     ],\n",
       "       [ 1709.82      ],\n",
       "       [ 1761.831     ],\n",
       "       [ 1820.487     ],\n",
       "       [ 1852.332     ],\n",
       "       [ 1886.558     ],\n",
       "       [ 1934.273     ],\n",
       "       [ 1988.648     ],\n",
       "       [ 2055.909     ],\n",
       "       [ 2118.473     ],\n",
       "       [ 2164.27      ],\n",
       "       [ 2202.76      ],\n",
       "       [ 2331.633     ],\n",
       "       [ 2395.053     ],\n",
       "       [ 2476.949     ],\n",
       "       [ 2526.61      ],\n",
       "       [ 2591.247     ],\n",
       "       [ 2667.565     ],\n",
       "       [ 2723.883     ],\n",
       "       [ 2789.842     ],\n",
       "       [ 2797.352     ],\n",
       "       [ 2856.483     ],\n",
       "       [ 2985.557     ],\n",
       "       [ 3124.206     ],\n",
       "       [ 3162.532     ],\n",
       "       [ 3260.609     ],\n",
       "       [ 3280.818     ],\n",
       "       [ 3274.302     ],\n",
       "       [ 3331.972     ],\n",
       "       [ 3366.322     ],\n",
       "       [ 3402.561     ],\n",
       "       [ 3473.413     ],\n",
       "       [ 3578.848     ],\n",
       "       [ 3689.179     ],\n",
       "       [ 3794.706     ],\n",
       "       [ 3908.054     ],\n",
       "       [ 4009.601     ],\n",
       "       [ 4084.25      ],\n",
       "       [ 4148.551     ],\n",
       "       [ 4230.168     ],\n",
       "       [ 4294.887     ],\n",
       "       [ 4386.773     ],\n",
       "       [ 4444.094     ],\n",
       "       [ 4507.894     ],\n",
       "       [ 4545.34      ],\n",
       "       [ 4607.669     ],\n",
       "       [ 4657.627     ],\n",
       "       [ 4722.156     ],\n",
       "       [ 4806.16      ],\n",
       "       [ 4884.555     ],\n",
       "       [ 5007.994     ],\n",
       "       [ 5073.372     ],\n",
       "       [ 5190.036     ],\n",
       "       [ 5282.835     ],\n",
       "       [ 5399.509     ],\n",
       "       [ 5511.253     ],\n",
       "       [ 5612.463     ],\n",
       "       [ 5695.365     ],\n",
       "       [ 5747.237     ],\n",
       "       [ 5872.701     ],\n",
       "       [ 5960.028     ],\n",
       "       [ 6015.116     ],\n",
       "       [ 6004.733     ],\n",
       "       [ 6035.178     ],\n",
       "       [ 6126.862     ],\n",
       "       [ 6205.937     ],\n",
       "       [ 6264.54      ],\n",
       "       [ 6363.102     ],\n",
       "       [ 6470.763     ],\n",
       "       [ 6566.641     ],\n",
       "       [ 6680.803     ],\n",
       "       [ 6729.459     ],\n",
       "       [ 6808.939     ],\n",
       "       [ 6882.098     ],\n",
       "       [ 7013.738     ],\n",
       "       [ 7115.652     ],\n",
       "       [ 7246.931     ],\n",
       "       [ 7331.075     ],\n",
       "       [ 7455.288     ],\n",
       "       [ 7522.289     ],\n",
       "       [ 7580.997     ],\n",
       "       [ 7683.125     ],\n",
       "       [ 7772.586     ],\n",
       "       [ 7868.468     ],\n",
       "       [ 8032.84      ],\n",
       "       [ 8131.408     ],\n",
       "       [ 8259.771     ],\n",
       "       [ 8362.655     ],\n",
       "       [ 8518.825     ],\n",
       "       [ 8662.823     ],\n",
       "       [ 8765.907     ],\n",
       "       [ 8866.48      ],\n",
       "       [ 8969.699     ],\n",
       "       [ 9121.097     ],\n",
       "       [ 9293.991     ],\n",
       "       [ 9417.264     ],\n",
       "       [ 9524.152     ],\n",
       "       [ 9681.856     ],\n",
       "       [ 9899.378     ],\n",
       "       [10002.857     ],\n",
       "       [10247.679     ],\n",
       "       [10319.825     ],\n",
       "       [10439.025     ],\n",
       "       [10472.879     ],\n",
       "       [10597.822     ],\n",
       "       [10596.294     ],\n",
       "       [10660.294     ],\n",
       "       [10788.952     ],\n",
       "       [10893.207     ],\n",
       "       [10992.051     ],\n",
       "       [11071.463     ],\n",
       "       [11183.507     ],\n",
       "       [11312.875     ],\n",
       "       [11567.326     ],\n",
       "       [11769.275     ],\n",
       "       [11920.169     ],\n",
       "       [12108.987     ],\n",
       "       [12303.34      ],\n",
       "       [12522.425     ],\n",
       "       [12761.337     ],\n",
       "       [12910.022     ],\n",
       "       [13142.873     ],\n",
       "       [13332.316     ],\n",
       "       [13603.933     ],\n",
       "       [13749.806     ],\n",
       "       [13867.469     ],\n",
       "       [14037.228     ],\n",
       "       [14208.569     ],\n",
       "       [14382.363     ],\n",
       "       [14535.003     ],\n",
       "       [14681.501     ],\n",
       "       [14651.039     ],\n",
       "       [14805.611     ],\n",
       "       [14835.187     ],\n",
       "       [14559.543     ],\n",
       "       [14394.547     ],\n",
       "       [14352.85      ],\n",
       "       [14420.312     ],\n",
       "       [14628.021     ],\n",
       "       [14721.35      ],\n",
       "       [14926.098     ],\n",
       "       [15079.917     ],\n",
       "       [15240.843     ],\n",
       "       [15285.828     ],\n",
       "       [15496.189     ],\n",
       "       [15591.85      ],\n",
       "       [15796.46      ],\n",
       "       [16019.758     ],\n",
       "       [16152.257     ],\n",
       "       [16257.151     ],\n",
       "       [16358.863     ],\n",
       "       [16569.591     ],\n",
       "       [16637.926     ],\n",
       "       [16848.748     ],\n",
       "       [17083.137     ],\n",
       "       [17104.555     ],\n",
       "       [17432.909     ],\n",
       "       [17721.657     ],\n",
       "       [17849.912     ],\n",
       "       [17984.178     ],\n",
       "       [18219.405     ],\n",
       "       [18344.713     ],\n",
       "       [18350.825     ],\n",
       "       [18424.283     ],\n",
       "       [18637.253     ],\n",
       "       [18806.743     ],\n",
       "       [18991.883     ],\n",
       "       [19190.431     ],\n",
       "       [19356.649     ],\n",
       "       [19611.704     ],\n",
       "       [19918.91      ],\n",
       "       [20163.159     ],\n",
       "       [20510.177     ],\n",
       "       [20749.752     ],\n",
       "       [20897.804     ],\n",
       "       [21098.827     ],\n",
       "       [21340.267     ],\n",
       "       [21542.104     ],\n",
       "       [20468.8160276 ],\n",
       "       [21303.55056441],\n",
       "       [20791.63991886],\n",
       "       [21625.20396215],\n",
       "       [21095.3220516 ],\n",
       "       [21195.72805249],\n",
       "       [21285.56406522]])"
      ]
     },
     "execution_count": 21,
     "metadata": {},
     "output_type": "execute_result"
    }
   ],
   "source": [
    "new_data"
   ]
  },
  {
   "cell_type": "code",
   "execution_count": 22,
   "metadata": {},
   "outputs": [
    {
     "data": {
      "image/png": "[encoded data removed]",
      "text/plain": [
       "<Figure size 1440x1080 with 1 Axes>"
      ]
     },
     "metadata": {
      "needs_background": "light"
     },
     "output_type": "display_data"
    }
   ],
   "source": [
    "#plot the data\n",
    "plt.figure(figsize=(20,15))\n",
    "\n",
    "ax0 = plt.subplot2grid((10, 8), (0, 0), rowspan=6, colspan=8)\n",
    "\n",
    "ax0.plot(new_data, label=\"Actual\")\n",
    "\n",
    "ax0.legend(fontsize=\"xx-large\")\n",
    "ax0.grid(True, linestyle='--', color='lightgray')"
   ]
  },
  {
   "cell_type": "code",
   "execution_count": 23,
   "metadata": {},
   "outputs": [],
   "source": [
    "# load data array into pandas dataframe\n",
    "new_df = pd.DataFrame(new_data, columns=['GDP'])"
   ]
  },
  {
   "cell_type": "code",
   "execution_count": 24,
   "metadata": {},
   "outputs": [],
   "source": [
    "new_df = new_df[1:]"
   ]
  },
  {
   "cell_type": "code",
   "execution_count": 25,
   "metadata": {},
   "outputs": [],
   "source": [
    "#function for finding gdp growth for a quarter\n",
    "def get_gdp_growth(index):\n",
    "    current_value = new_data[index][0]\n",
    "    previous_value = new_data[index-1][0]\n",
    "    \n",
    "    return (math.pow(current_value / previous_value, 4) - 1) * 100"
   ]
  },
  {
   "cell_type": "code",
   "execution_count": 26,
   "metadata": {},
   "outputs": [],
   "source": [
    "#load gdp growth data\n",
    "gdp_pct_df = pd.read_csv('GDP_PCT.csv', index_col=0)"
   ]
  },
  {
   "cell_type": "code",
   "execution_count": 27,
   "metadata": {},
   "outputs": [
    {
     "data": {
      "text/html": [
       "<div>\n",
       "<style scoped>\n",
       "    .dataframe tbody tr th:only-of-type {\n",
       "        vertical-align: middle;\n",
       "    }\n",
       "\n",
       "    .dataframe tbody tr th {\n",
       "        vertical-align: top;\n",
       "    }\n",
       "\n",
       "    .dataframe thead th {\n",
       "        text-align: right;\n",
       "    }\n",
       "</style>\n",
       "<table border=\"1\" class=\"dataframe\">\n",
       "  <thead>\n",
       "    <tr style=\"text-align: right;\">\n",
       "      <th></th>\n",
       "      <th>GDP</th>\n",
       "    </tr>\n",
       "    <tr>\n",
       "      <th>DATE</th>\n",
       "      <th></th>\n",
       "    </tr>\n",
       "  </thead>\n",
       "  <tbody>\n",
       "    <tr>\n",
       "      <th>2018-07-01</th>\n",
       "      <td>4.8</td>\n",
       "    </tr>\n",
       "    <tr>\n",
       "      <th>2018-10-01</th>\n",
       "      <td>2.9</td>\n",
       "    </tr>\n",
       "    <tr>\n",
       "      <th>2019-01-01</th>\n",
       "      <td>3.9</td>\n",
       "    </tr>\n",
       "    <tr>\n",
       "      <th>2019-04-01</th>\n",
       "      <td>4.7</td>\n",
       "    </tr>\n",
       "    <tr>\n",
       "      <th>2019-07-01</th>\n",
       "      <td>3.8</td>\n",
       "    </tr>\n",
       "  </tbody>\n",
       "</table>\n",
       "</div>"
      ],
      "text/plain": [
       "            GDP\n",
       "DATE           \n",
       "2018-07-01  4.8\n",
       "2018-10-01  2.9\n",
       "2019-01-01  3.9\n",
       "2019-04-01  4.7\n",
       "2019-07-01  3.8"
      ]
     },
     "execution_count": 27,
     "metadata": {},
     "output_type": "execute_result"
    }
   ],
   "source": [
    "gdp_pct_df.tail()"
   ]
  },
  {
   "cell_type": "code",
   "execution_count": 28,
   "metadata": {},
   "outputs": [],
   "source": [
    "# copy gdp pct data to final_df\n",
    "final_df = gdp_pct_df\n",
    "\n",
    "# add the 7 predicted quarters to the gdp growth data\n",
    "for i in range(-7, 0):\n",
    "    final_df = final_df.append({'GDP': get_gdp_growth(i)}, ignore_index=True)\n",
    "    \n",
    "final_df.index = gdp_pct_df.index.append(pd.Index([\"2019-10-01\", \"2020-01-01\", \"2020-04-01\", \"2020-07-01\", \"2020-10-01\", \"2021-01-01\", \"2021-04-01\"]))\n",
    "new_df.index = gdp_pct_df.index.append(pd.Index([\"2019-10-01\", \"2020-01-01\", \"2020-04-01\", \"2020-07-01\", \"2020-10-01\", \"2021-01-01\", \"2021-04-01\"]))"
   ]
  },
  {
   "cell_type": "code",
   "execution_count": 29,
   "metadata": {},
   "outputs": [
    {
     "data": {
      "text/html": [
       "<div>\n",
       "<style scoped>\n",
       "    .dataframe tbody tr th:only-of-type {\n",
       "        vertical-align: middle;\n",
       "    }\n",
       "\n",
       "    .dataframe tbody tr th {\n",
       "        vertical-align: top;\n",
       "    }\n",
       "\n",
       "    .dataframe thead th {\n",
       "        text-align: right;\n",
       "    }\n",
       "</style>\n",
       "<table border=\"1\" class=\"dataframe\">\n",
       "  <thead>\n",
       "    <tr style=\"text-align: right;\">\n",
       "      <th></th>\n",
       "      <th>GDP</th>\n",
       "    </tr>\n",
       "  </thead>\n",
       "  <tbody>\n",
       "    <tr>\n",
       "      <th>2019-01-01</th>\n",
       "      <td>3.900000</td>\n",
       "    </tr>\n",
       "    <tr>\n",
       "      <th>2019-04-01</th>\n",
       "      <td>4.700000</td>\n",
       "    </tr>\n",
       "    <tr>\n",
       "      <th>2019-07-01</th>\n",
       "      <td>3.800000</td>\n",
       "    </tr>\n",
       "    <tr>\n",
       "      <th>2019-10-01</th>\n",
       "      <td>-18.488588</td>\n",
       "    </tr>\n",
       "    <tr>\n",
       "      <th>2020-01-01</th>\n",
       "      <td>17.337566</td>\n",
       "    </tr>\n",
       "    <tr>\n",
       "      <th>2020-04-01</th>\n",
       "      <td>-9.270814</td>\n",
       "    </tr>\n",
       "    <tr>\n",
       "      <th>2020-07-01</th>\n",
       "      <td>17.026945</td>\n",
       "    </tr>\n",
       "    <tr>\n",
       "      <th>2020-10-01</th>\n",
       "      <td>-9.446802</td>\n",
       "    </tr>\n",
       "    <tr>\n",
       "      <th>2021-01-01</th>\n",
       "      <td>1.917489</td>\n",
       "    </tr>\n",
       "    <tr>\n",
       "      <th>2021-04-01</th>\n",
       "      <td>1.706170</td>\n",
       "    </tr>\n",
       "  </tbody>\n",
       "</table>\n",
       "</div>"
      ],
      "text/plain": [
       "                  GDP\n",
       "2019-01-01   3.900000\n",
       "2019-04-01   4.700000\n",
       "2019-07-01   3.800000\n",
       "2019-10-01 -18.488588\n",
       "2020-01-01  17.337566\n",
       "2020-04-01  -9.270814\n",
       "2020-07-01  17.026945\n",
       "2020-10-01  -9.446802\n",
       "2021-01-01   1.917489\n",
       "2021-04-01   1.706170"
      ]
     },
     "execution_count": 29,
     "metadata": {},
     "output_type": "execute_result"
    }
   ],
   "source": [
    "final_df.tail(10)"
   ]
  },
  {
   "cell_type": "code",
   "execution_count": 30,
   "metadata": {},
   "outputs": [
    {
     "name": "stdout",
     "output_type": "stream",
     "text": [
      "2020 Q4 gdp growth is -9.446802422992196%\n"
     ]
    }
   ],
   "source": [
    "# print 2020 Q4 gdp growth value\n",
    "print(f'2020 Q4 gdp growth is {final_df.values[-3][0]}%')"
   ]
  },
  {
   "cell_type": "code",
   "execution_count": 31,
   "metadata": {},
   "outputs": [],
   "source": [
    "# set index name to DATE\n",
    "final_df.index.name = \"DATE\"\n",
    "new_df.index.name = \"DATE\""
   ]
  },
  {
   "cell_type": "code",
   "execution_count": 32,
   "metadata": {},
   "outputs": [
    {
     "data": {
      "text/html": [
       "<div>\n",
       "<style scoped>\n",
       "    .dataframe tbody tr th:only-of-type {\n",
       "        vertical-align: middle;\n",
       "    }\n",
       "\n",
       "    .dataframe tbody tr th {\n",
       "        vertical-align: top;\n",
       "    }\n",
       "\n",
       "    .dataframe thead th {\n",
       "        text-align: right;\n",
       "    }\n",
       "</style>\n",
       "<table border=\"1\" class=\"dataframe\">\n",
       "  <thead>\n",
       "    <tr style=\"text-align: right;\">\n",
       "      <th></th>\n",
       "      <th>GDP</th>\n",
       "    </tr>\n",
       "    <tr>\n",
       "      <th>DATE</th>\n",
       "      <th></th>\n",
       "    </tr>\n",
       "  </thead>\n",
       "  <tbody>\n",
       "    <tr>\n",
       "      <th>1947-04-01</th>\n",
       "      <td>4.700000</td>\n",
       "    </tr>\n",
       "    <tr>\n",
       "      <th>1947-07-01</th>\n",
       "      <td>6.000000</td>\n",
       "    </tr>\n",
       "    <tr>\n",
       "      <th>1947-10-01</th>\n",
       "      <td>17.300000</td>\n",
       "    </tr>\n",
       "    <tr>\n",
       "      <th>1948-01-01</th>\n",
       "      <td>9.600000</td>\n",
       "    </tr>\n",
       "    <tr>\n",
       "      <th>1948-04-01</th>\n",
       "      <td>10.700000</td>\n",
       "    </tr>\n",
       "    <tr>\n",
       "      <th>...</th>\n",
       "      <td>...</td>\n",
       "    </tr>\n",
       "    <tr>\n",
       "      <th>2020-04-01</th>\n",
       "      <td>-9.270814</td>\n",
       "    </tr>\n",
       "    <tr>\n",
       "      <th>2020-07-01</th>\n",
       "      <td>17.026945</td>\n",
       "    </tr>\n",
       "    <tr>\n",
       "      <th>2020-10-01</th>\n",
       "      <td>-9.446802</td>\n",
       "    </tr>\n",
       "    <tr>\n",
       "      <th>2021-01-01</th>\n",
       "      <td>1.917489</td>\n",
       "    </tr>\n",
       "    <tr>\n",
       "      <th>2021-04-01</th>\n",
       "      <td>1.706170</td>\n",
       "    </tr>\n",
       "  </tbody>\n",
       "</table>\n",
       "<p>297 rows × 1 columns</p>\n",
       "</div>"
      ],
      "text/plain": [
       "                  GDP\n",
       "DATE                 \n",
       "1947-04-01   4.700000\n",
       "1947-07-01   6.000000\n",
       "1947-10-01  17.300000\n",
       "1948-01-01   9.600000\n",
       "1948-04-01  10.700000\n",
       "...               ...\n",
       "2020-04-01  -9.270814\n",
       "2020-07-01  17.026945\n",
       "2020-10-01  -9.446802\n",
       "2021-01-01   1.917489\n",
       "2021-04-01   1.706170\n",
       "\n",
       "[297 rows x 1 columns]"
      ]
     },
     "execution_count": 32,
     "metadata": {},
     "output_type": "execute_result"
    }
   ],
   "source": [
    "final_df"
   ]
  },
  {
   "cell_type": "code",
   "execution_count": 33,
   "metadata": {},
   "outputs": [
    {
     "data": {
      "text/html": [
       "<div>\n",
       "<style scoped>\n",
       "    .dataframe tbody tr th:only-of-type {\n",
       "        vertical-align: middle;\n",
       "    }\n",
       "\n",
       "    .dataframe tbody tr th {\n",
       "        vertical-align: top;\n",
       "    }\n",
       "\n",
       "    .dataframe thead th {\n",
       "        text-align: right;\n",
       "    }\n",
       "</style>\n",
       "<table border=\"1\" class=\"dataframe\">\n",
       "  <thead>\n",
       "    <tr style=\"text-align: right;\">\n",
       "      <th></th>\n",
       "      <th>GDP</th>\n",
       "    </tr>\n",
       "    <tr>\n",
       "      <th>DATE</th>\n",
       "      <th></th>\n",
       "    </tr>\n",
       "  </thead>\n",
       "  <tbody>\n",
       "    <tr>\n",
       "      <th>2019-01-01</th>\n",
       "      <td>21098.827000</td>\n",
       "    </tr>\n",
       "    <tr>\n",
       "      <th>2019-04-01</th>\n",
       "      <td>21340.267000</td>\n",
       "    </tr>\n",
       "    <tr>\n",
       "      <th>2019-07-01</th>\n",
       "      <td>21542.104000</td>\n",
       "    </tr>\n",
       "    <tr>\n",
       "      <th>2019-10-01</th>\n",
       "      <td>20468.816028</td>\n",
       "    </tr>\n",
       "    <tr>\n",
       "      <th>2020-01-01</th>\n",
       "      <td>21303.550564</td>\n",
       "    </tr>\n",
       "    <tr>\n",
       "      <th>2020-04-01</th>\n",
       "      <td>20791.639919</td>\n",
       "    </tr>\n",
       "    <tr>\n",
       "      <th>2020-07-01</th>\n",
       "      <td>21625.203962</td>\n",
       "    </tr>\n",
       "    <tr>\n",
       "      <th>2020-10-01</th>\n",
       "      <td>21095.322052</td>\n",
       "    </tr>\n",
       "    <tr>\n",
       "      <th>2021-01-01</th>\n",
       "      <td>21195.728052</td>\n",
       "    </tr>\n",
       "    <tr>\n",
       "      <th>2021-04-01</th>\n",
       "      <td>21285.564065</td>\n",
       "    </tr>\n",
       "  </tbody>\n",
       "</table>\n",
       "</div>"
      ],
      "text/plain": [
       "                     GDP\n",
       "DATE                    \n",
       "2019-01-01  21098.827000\n",
       "2019-04-01  21340.267000\n",
       "2019-07-01  21542.104000\n",
       "2019-10-01  20468.816028\n",
       "2020-01-01  21303.550564\n",
       "2020-04-01  20791.639919\n",
       "2020-07-01  21625.203962\n",
       "2020-10-01  21095.322052\n",
       "2021-01-01  21195.728052\n",
       "2021-04-01  21285.564065"
      ]
     },
     "execution_count": 33,
     "metadata": {},
     "output_type": "execute_result"
    }
   ],
   "source": [
    "new_df.tail(10)"
   ]
  },
  {
   "cell_type": "code",
   "execution_count": 34,
   "metadata": {},
   "outputs": [],
   "source": [
    "# save final_df to final_gdp_pct.csv file\n",
    "final_df.to_csv('final_gdp_pct.csv')"
   ]
  },
  {
   "cell_type": "code",
   "execution_count": 35,
   "metadata": {},
   "outputs": [],
   "source": [
    "new_df.to_csv('final_gdp.csv')"
   ]
  },
  {
   "cell_type": "code",
   "execution_count": null,
   "metadata": {},
   "outputs": [],
   "source": []
  }
 ],
 "metadata": {
  "kernelspec": {
   "display_name": "Python 3",
   "language": "python",
   "name": "python3"
  },
  "language_info": {
   "codemirror_mode": {
    "name": "ipython",
    "version": 3
   },
   "file_extension": ".py",
   "mimetype": "text/x-python",
   "name": "python",
   "nbconvert_exporter": "python",
   "pygments_lexer": "ipython3",
   "version": "3.7.5"
  }
 },
 "nbformat": 4,
 "nbformat_minor": 2
}
